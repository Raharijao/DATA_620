{
 "cells": [
  {
   "cell_type": "code",
   "execution_count": null,
   "id": "06bffcf4",
   "metadata": {},
   "outputs": [],
   "source": [
    "\n",
    "import matplotlib.pyplot as plt\n",
    "import networkx as nx\n",
    "from networkx.algorithms import bipartite\n",
    "\n",
    "G = nx.davis_southern_women_graph()\n",
    "women = G.graph[\"top\"]\n",
    "clubs = G.graph[\"bottom\"]\n",
    "\n",
    "print(\"Biadjacency matrix\")\n",
    "print(bipartite.biadjacency_matrix(G, women, clubs))\n",
    "\n",
    "# project bipartite graph onto women nodes\n",
    "W = bipartite.projected_graph(G, women)\n",
    "print()\n",
    "print(\"#Friends, Member\")\n",
    "for w in women:\n",
    "    print(f\"{W.degree(w)} {w}\")\n",
    "\n",
    "# project bipartite graph onto women nodes keeping number of co-occurrence\n",
    "# the degree computed is weighted and counts the total number of shared contacts\n",
    "W = bipartite.weighted_projected_graph(G, women)\n",
    "print()\n",
    "print(\"#Friend meetings, Member\")\n",
    "for w in women:\n",
    "    print(f\"{W.degree(w, weight='weight')} {w}\")\n",
    "\n",
    "pos = nx.spring_layout(G, seed=648)  # Seed layout for reproducible node positions\n",
    "nx.draw(G, pos)\n",
    "plt.show()\n"
   ]
  },
  {
   "cell_type": "markdown",
   "id": "64084a07",
   "metadata": {},
   "source": [
    "### Interpretation\n",
    "\n",
    "When we project the network graph onto the women, it shows who went to the same events together.\n",
    "\n",
    "Women with more shared connections probably formed closer social circles or were main figures in the community.\n",
    "\n",
    "The weight seems to shows how often pairs of women appeared together, which could indicate stronger ties between some groups.\n",
    "\n",
    "But when we project into the events, it reveals which gatherings attracted similar groups of women. Some events mihht have acted as bridge between different circles."
   ]
  }
 ],
 "metadata": {
  "language_info": {
   "name": "python"
  }
 },
 "nbformat": 4,
 "nbformat_minor": 5
}
