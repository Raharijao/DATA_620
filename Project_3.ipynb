{
 "cells": [
  {
   "cell_type": "markdown",
   "id": "570911c5",
   "metadata": {},
   "source": [
    "# Project 3:\n",
    "\n",
    "Goal:  Build a classifier that predicts gender from a first name using features from NLTK Ch. 6.  \n",
    "Plan:\n",
    "- Textbook baseline (last letter)\n",
    "- suffix2\n",
    "- first letter\n",
    "- length\n",
    "- vowel count"
   ]
  },
  {
   "cell_type": "markdown",
   "id": "72f37b46",
   "metadata": {},
   "source": [
    "# Data Description\n",
    "\n",
    "We will be using the NLTK Names Corpus, which has two lists: `male.txt` and `female.txt`.  \n",
    "We are going to combine them into labeled examples of `(name, gender)`.  "
   ]
  },
  {
   "cell_type": "markdown",
   "id": "2f50cbcd",
   "metadata": {},
   "source": [
    "1- Loading Data"
   ]
  },
  {
   "cell_type": "code",
   "execution_count": 2,
   "id": "2a7b6e00",
   "metadata": {},
   "outputs": [],
   "source": [
    "import nltk\n",
    "from nltk.corpus import names\n",
    "import random"
   ]
  },
  {
   "cell_type": "code",
   "execution_count": 3,
   "id": "837910a6",
   "metadata": {},
   "outputs": [
    {
     "name": "stderr",
     "output_type": "stream",
     "text": [
      "[nltk_data] Downloading package names to\n",
      "[nltk_data]     C:\\Users\\rahar\\AppData\\Roaming\\nltk_data...\n",
      "[nltk_data]   Package names is already up-to-date!\n"
     ]
    }
   ],
   "source": [
    "nltk.download('names')\n",
    "\n",
    "#loading names, labeling and shuffle\n",
    "labeled_names = ([(name, 'male') for name in names.words('male.txt')] +\n",
    "                 [(name, 'female') for name in names.words('female.txt')])\n",
    "random.shuffle(labeled_names)"
   ]
  },
  {
   "cell_type": "code",
   "execution_count": 4,
   "id": "4d498a21",
   "metadata": {},
   "outputs": [],
   "source": [
    "#splitting into groups\n",
    "train_names = labeled_names[1000:]\n",
    "devtest_names = labeled_names[500:1000]\n",
    "test_names = labeled_names[:500]"
   ]
  },
  {
   "cell_type": "code",
   "execution_count": 5,
   "id": "496a6e7f",
   "metadata": {},
   "outputs": [
    {
     "name": "stdout",
     "output_type": "stream",
     "text": [
      "Training set: 6944 names\n",
      "Dev-test set: 500 names\n",
      "Test set: 500 names\n",
      "[('Jaine', 'female'), ('Sonia', 'female'), ('Gwyneth', 'female'), ('Louisette', 'female'), ('Dionis', 'male')]\n"
     ]
    }
   ],
   "source": [
    "\n",
    "print(f\"Training set: {len(train_names)} names\")\n",
    "print(f\"Dev-test set: {len(devtest_names)} names\")\n",
    "print(f\"Test set: {len(test_names)} names\")\n",
    "\n",
    "print(train_names[:5])"
   ]
  },
  {
   "cell_type": "markdown",
   "id": "13f685d9",
   "metadata": {},
   "source": [
    "2 - Textbook example: last name as feature\n",
    "\n",
    "The first model uses only the last letter of each name as the feature.\n",
    "It got a dev-test accuracy of 0.746 which is similar with the performance in the textbook.\n",
    "\n",
    "The most informative features confirm known linguistic patterns were “a” for female, and “k,” “p,” “f,” and “d” for male."
   ]
  },
  {
   "cell_type": "code",
   "execution_count": null,
   "id": "ec5fcc9b",
   "metadata": {},
   "outputs": [
    {
     "name": "stdout",
     "output_type": "stream",
     "text": [
      "{'last_letter': 'o'}\n",
      "{'last_letter': 'y'}\n"
     ]
    }
   ],
   "source": [
    "#feature extractor\n",
    "def gender_features(name):\n",
    "    return {'last_letter': name[-1].lower()}\n",
    "\n",
    "#test\n",
    "print(gender_features(\"Neo\"))\n",
    "print(gender_features(\"Trinity\"))\n"
   ]
  },
  {
   "cell_type": "code",
   "execution_count": 10,
   "id": "dd438c66",
   "metadata": {},
   "outputs": [
    {
     "name": "stdout",
     "output_type": "stream",
     "text": [
      "accuracy: 0.746\n",
      "Most Informative Features\n",
      "             last_letter = 'k'              male : female =     42.1 : 1.0\n",
      "             last_letter = 'a'            female : male   =     40.8 : 1.0\n",
      "             last_letter = 'p'              male : female =     19.6 : 1.0\n",
      "             last_letter = 'f'              male : female =     14.5 : 1.0\n",
      "             last_letter = 'd'              male : female =     10.2 : 1.0\n"
     ]
    }
   ],
   "source": [
    "#feature sets for each group\n",
    "train_set = [(gender_features(n), g) for (n, g) in train_names]\n",
    "devtest_set = [(gender_features(n), g) for (n, g) in devtest_names]\n",
    "test_set = [(gender_features(n), g) for (n, g) in test_names]\n",
    "\n",
    "#train Naive Bayes classifier\n",
    "classifier = nltk.NaiveBayesClassifier.train(train_set)\n",
    "\n",
    "acc_dev_v1 = nltk.classify.accuracy(classifier, devtest_set)\n",
    "print(f\"accuracy: {acc_dev_v1:.3f}\")\n",
    "\n",
    "#what are the most predictive features ?\n",
    "classifier.show_most_informative_features(5)"
   ]
  },
  {
   "cell_type": "markdown",
   "id": "a36b025a",
   "metadata": {},
   "source": [
    "3 - Adding last two letters as feature\n",
    "\n",
    "Next we are expanding the previous feature to look at the last two letters to capture more detailed endings like -na, -ia, -la.\n",
    "\n",
    "The dev-test accuracy increased slightly from 0.746 to 0.750.\n",
    "\n",
    "This improvement is small but postitive, we see that some multiletter endings contain gender information that the single letter model couldn’t capture, such as “-na,” “-la,” “-ra,” and “-ia” for female names, and “-rk” or “-ld” for male names.\n",
    "\n",
    "We will keep this feature"
   ]
  },
  {
   "cell_type": "code",
   "execution_count": 12,
   "id": "a2da1fe1",
   "metadata": {},
   "outputs": [
    {
     "name": "stdout",
     "output_type": "stream",
     "text": [
      "suffix2 accuracy:      0.750\n",
      "improvement:                        +0.004\n",
      "Most Informative Features\n",
      "                 suffix2 = 'na'           female : male   =     93.3 : 1.0\n",
      "                 suffix2 = 'la'           female : male   =     70.0 : 1.0\n",
      "                 suffix2 = 'ra'           female : male   =     58.7 : 1.0\n",
      "                 suffix2 = 'ia'           female : male   =     52.6 : 1.0\n",
      "                 suffix1 = 'k'              male : female =     42.1 : 1.0\n"
     ]
    }
   ],
   "source": [
    "#extractor\n",
    "def gender_features_v2(name):\n",
    "    name = name.lower()\n",
    "    return {\n",
    "        'suffix1': name[-1:],\n",
    "        'suffix2': name[-2:]\n",
    "    }\n",
    "\n",
    "#feature for groups\n",
    "train_set_v2 = [(gender_features_v2(n), g) for (n, g) in train_names]\n",
    "devtest_set_v2 = [(gender_features_v2(n), g) for (n, g) in devtest_names]\n",
    "\n",
    "#new model\n",
    "clf_v2 = nltk.NaiveBayesClassifier.train(train_set_v2)\n",
    "\n",
    "acc_dev_v2 = nltk.classify.accuracy(clf_v2, devtest_set_v2)\n",
    "\n",
    "print(f\"suffix2 accuracy:      {acc_dev_v2:.3f}\")\n",
    "print(f\"improvement:                        {acc_dev_v2 - acc_dev_v1:+.3f}\")\n",
    "\n",
    "clf_v2.show_most_informative_features(5)"
   ]
  },
  {
   "cell_type": "markdown",
   "id": "7d45adee",
   "metadata": {},
   "source": [
    "4- Adding first letter and name length as features\n",
    "\n",
    "Next we added the first lettere and the length of the name as features\n",
    "\n",
    "The model’s dev-test accuracy improved from 0.750 to 0.764 (+0.014), which is a bigger increase.\n",
    "\n",
    "However, the top predictors are still the last two letters, but the new features might have helped in cases where those suffixes alone were not enough, such as in Ben and Jen, or Kim and Tim."
   ]
  },
  {
   "cell_type": "code",
   "execution_count": 13,
   "id": "4353886f",
   "metadata": {},
   "outputs": [
    {
     "name": "stdout",
     "output_type": "stream",
     "text": [
      "dev-test accuracy: 0.764\n",
      "improvement: +0.014\n",
      "Most Informative Features\n",
      "                 suffix2 = 'na'           female : male   =     93.3 : 1.0\n",
      "                 suffix2 = 'la'           female : male   =     70.0 : 1.0\n",
      "                 suffix2 = 'ra'           female : male   =     58.7 : 1.0\n",
      "                 suffix2 = 'ia'           female : male   =     52.6 : 1.0\n",
      "                 suffix1 = 'k'              male : female =     42.1 : 1.0\n"
     ]
    }
   ],
   "source": [
    "def gender_features_v3(name):\n",
    "    name = name.lower()\n",
    "    return {\n",
    "        'suffix1': name[-1:],\n",
    "        'suffix2': name[-2:],\n",
    "        'first_letter': name[0],\n",
    "        'name_length': len(name)\n",
    "    }\n",
    "\n",
    "train_set_v3 = [(gender_features_v3(n), g) for (n, g) in train_names]\n",
    "devtest_set_v3 = [(gender_features_v3(n), g) for (n, g) in devtest_names]\n",
    "\n",
    "clf_v3 = nltk.NaiveBayesClassifier.train(train_set_v3)\n",
    "acc_dev_v3 = nltk.classify.accuracy(clf_v3, devtest_set_v3)\n",
    "\n",
    "print(f\"dev-test accuracy: {acc_dev_v3:.3f}\")\n",
    "print(f\"improvement: {acc_dev_v3 - acc_dev_v2:+.3f}\")\n",
    "clf_v3.show_most_informative_features(5)\n"
   ]
  },
  {
   "cell_type": "markdown",
   "id": "3409fb6f",
   "metadata": {},
   "source": [
    "5- Adding vowels as features\n",
    "\n",
    "Female names usually contain more vowels (such as Anna, Olivia) while male ones often end with consonants (Mark, Scott). To capture this, we measured the total number of vowels in the names and added it as a feature.\n",
    "\n",
    "The results produced a small improvement (+0.008).\n",
    "\n",
    "By now, we are at 77%–78% accuracy, which matches the plateau shown in the textbook. We will stop at these features to avoid chasing tiny, unstable gains that would most likely overfit."
   ]
  },
  {
   "cell_type": "code",
   "execution_count": 17,
   "id": "30ea5632",
   "metadata": {},
   "outputs": [
    {
     "name": "stdout",
     "output_type": "stream",
     "text": [
      "v4b (vowel_count) dev-test:   0.772  Δvs v3: +0.008\n"
     ]
    }
   ],
   "source": [
    "def gender_features_v4b(name):\n",
    "    name = name.lower()\n",
    "    return {\n",
    "        'suffix1': name[-1:],\n",
    "        'suffix2': name[-2:],\n",
    "        'first_letter': name[0],\n",
    "        'name_length': len(name),\n",
    "        'vowel_count': sum(ch in VOWELS for ch in name)\n",
    "    }\n",
    "\n",
    "train_set_v4b = [(gender_features_v4b(n), g) for (n,g) in train_names]\n",
    "devtest_set_v4b = [(gender_features_v4b(n), g) for (n,g) in devtest_names]\n",
    "clf_v4b = nltk.NaiveBayesClassifier.train(train_set_v4b)\n",
    "acc_dev_v4b = nltk.classify.accuracy(clf_v4b, devtest_set_v4b)\n",
    "print(f\"v4b (vowel_count) dev-test:   {acc_dev_v4b:.3f}  Δvs v3: {acc_dev_v4b - acc_dev_v3:+.3f}\")\n"
   ]
  },
  {
   "cell_type": "markdown",
   "id": "ea36d80a",
   "metadata": {},
   "source": [
    "6 - Using final model and evaluating it\n",
    "\n",
    "The model achieved a dev-test accuracy of 0.772 and a test accuracy of 0.766, showing a small −0.006 generalization gap.\n",
    "\n",
    "Performance on the unseen test set is usually slightly lower than on the dev-test set because the model has been tuned using the dev-test data. But because the scores are close to each other, we can assume the model generalizes well and isn’t overfitting.\n",
    "\n",
    "The most predictive features are still the two-letter suffixes “-na”, “-la”, and “-ia”."
   ]
  },
  {
   "cell_type": "code",
   "execution_count": 18,
   "id": "f62c2121",
   "metadata": {},
   "outputs": [
    {
     "name": "stdout",
     "output_type": "stream",
     "text": [
      "dev-test accuracy: 0.772\n",
      "test) accuracy:     0.766\n",
      "test - dev: -0.006\n",
      "Most Informative Features\n",
      "                 suffix2 = 'na'           female : male   =     93.3 : 1.0\n",
      "                 suffix2 = 'la'           female : male   =     70.0 : 1.0\n",
      "                 suffix2 = 'ra'           female : male   =     58.7 : 1.0\n",
      "                 suffix2 = 'ia'           female : male   =     52.6 : 1.0\n",
      "                 suffix1 = 'k'              male : female =     42.1 : 1.0\n"
     ]
    }
   ],
   "source": [
    "#building test set features\n",
    "test_set_v4b = [(gender_features_v4b(n), g) for (n, g) in test_names]\n",
    "\n",
    "# Evaluate on dev-test and test\n",
    "print(f\"dev-test accuracy: {acc_dev_v4b:.3f}\")\n",
    "\n",
    "test_acc_v4b = nltk.classify.accuracy(clf_v4b, test_set_v4b)\n",
    "print(f\"test) accuracy:     {test_acc_v4b:.3f}\")\n",
    "print(f\"test - dev: {test_acc_v4b - acc_dev_v4b:+.3f}\")\n",
    "\n",
    "clf_v4b.show_most_informative_features(5)\n"
   ]
  }
 ],
 "metadata": {
  "kernelspec": {
   "display_name": "Python 3",
   "language": "python",
   "name": "python3"
  },
  "language_info": {
   "codemirror_mode": {
    "name": "ipython",
    "version": 3
   },
   "file_extension": ".py",
   "mimetype": "text/x-python",
   "name": "python",
   "nbconvert_exporter": "python",
   "pygments_lexer": "ipython3",
   "version": "3.12.4"
  }
 },
 "nbformat": 4,
 "nbformat_minor": 5
}
