{
 "cells": [
  {
   "cell_type": "code",
   "execution_count": null,
   "metadata": {},
   "outputs": [],
   "source": [
    "import pandas as pd\n",
    "import networkx as nx"
   ]
  },
  {
   "cell_type": "code",
   "execution_count": null,
   "metadata": {},
   "outputs": [],
   "source": [
    "#edge list\n",
    "edges = pd.read_csv(r\"C:\\Users\\rahar\\Desktop\\Fall 2025\\Project 1\\Data\\imdb_edgelist.csv\")\n",
    "\n",
    "#personnel info\n",
    "names = pd.read_csv(r\"C:\\Users\\rahar\\Desktop\\Fall 2025\\Project 1\\Data\\name.basics.tsv\", sep=\"\\t\", low_memory=False)\n"
   ]
  },
  {
   "cell_type": "code",
   "execution_count": null,
   "metadata": {},
   "outputs": [],
   "source": [
    "#Function for normalizing category, actors and non actors.\n",
    "def bucket_A(prof):\n",
    "    if pd.isna(prof) or prof == \"\\\\N\":\n",
    "        return \"unknown\"\n",
    "    profs = set(p.strip().lower() for p in prof.split(\",\"))\n",
    "    return \"actor\" if (\"actor\" in profs or \"actress\" in profs) else \"non_actor\""
   ]
  },
  {
   "cell_type": "code",
   "execution_count": null,
   "metadata": {},
   "outputs": [],
   "source": [
    "#Applying function to names\n",
    "names[\"category\"] = names[\"primaryProfession\"].apply(bucket_A)"
   ]
  },
  {
   "cell_type": "code",
   "execution_count": null,
   "metadata": {},
   "outputs": [],
   "source": [
    "#Generate graph from edge file\n",
    "G = nx.from_pandas_edgelist(edges, source=\"From\", target=\"To\", edge_attr=\"Strength\")\n"
   ]
  },
  {
   "cell_type": "code",
   "execution_count": null,
   "metadata": {},
   "outputs": [],
   "source": [
    "#Assigning category to each notes using dictionary\n",
    "cat_dict = dict(zip(names[\"nconst\"], names[\"category\"]))\n",
    "nx.set_node_attributes(G, cat_dict, \"category\")\n"
   ]
  },
  {
   "cell_type": "code",
   "execution_count": null,
   "metadata": {},
   "outputs": [],
   "source": [
    "#Calculating degree centrality and eigenvector centrality\n",
    "deg_centrality = nx.degree_centrality(G)\n",
    "eig_centrality = nx.eigenvector_centrality(G, max_iter=500)"
   ]
  },
  {
   "cell_type": "code",
   "execution_count": null,
   "metadata": {},
   "outputs": [],
   "source": [
    "#Combining columns into one data frame\n",
    "df = pd.DataFrame({\n",
    "    \"node\": list(deg_centrality.keys()),\n",
    "    \"degree\": list(deg_centrality.values()),\n",
    "    \"eigenvector\": [eig_centrality.get(n, 0) for n in deg_centrality.keys()],\n",
    "    \"category\": [G.nodes[n].get(\"category\") for n in deg_centrality.keys()]\n",
    "})"
   ]
  },
  {
   "cell_type": "code",
   "execution_count": 33,
   "metadata": {},
   "outputs": [
    {
     "data": {
      "text/html": [
       "<div>\n",
       "<style scoped>\n",
       "    .dataframe tbody tr th:only-of-type {\n",
       "        vertical-align: middle;\n",
       "    }\n",
       "\n",
       "    .dataframe tbody tr th {\n",
       "        vertical-align: top;\n",
       "    }\n",
       "\n",
       "    .dataframe thead th {\n",
       "        text-align: right;\n",
       "    }\n",
       "</style>\n",
       "<table border=\"1\" class=\"dataframe\">\n",
       "  <thead>\n",
       "    <tr style=\"text-align: right;\">\n",
       "      <th></th>\n",
       "      <th>node</th>\n",
       "      <th>degree</th>\n",
       "      <th>eigenvector</th>\n",
       "      <th>category</th>\n",
       "    </tr>\n",
       "  </thead>\n",
       "  <tbody>\n",
       "    <tr>\n",
       "      <th>0</th>\n",
       "      <td>nm3662667</td>\n",
       "      <td>0.000090</td>\n",
       "      <td>0.000051</td>\n",
       "      <td>actor</td>\n",
       "    </tr>\n",
       "    <tr>\n",
       "      <th>1</th>\n",
       "      <td>nm1568415</td>\n",
       "      <td>0.000181</td>\n",
       "      <td>0.001992</td>\n",
       "      <td>actor</td>\n",
       "    </tr>\n",
       "    <tr>\n",
       "      <th>2</th>\n",
       "      <td>nm3421365</td>\n",
       "      <td>0.000090</td>\n",
       "      <td>0.000051</td>\n",
       "      <td>actor</td>\n",
       "    </tr>\n",
       "    <tr>\n",
       "      <th>3</th>\n",
       "      <td>nm3661490</td>\n",
       "      <td>0.000090</td>\n",
       "      <td>0.000051</td>\n",
       "      <td>actor</td>\n",
       "    </tr>\n",
       "    <tr>\n",
       "      <th>4</th>\n",
       "      <td>nm0219967</td>\n",
       "      <td>0.001324</td>\n",
       "      <td>0.036085</td>\n",
       "      <td>actor</td>\n",
       "    </tr>\n",
       "  </tbody>\n",
       "</table>\n",
       "</div>"
      ],
      "text/plain": [
       "        node    degree  eigenvector category\n",
       "0  nm3662667  0.000090     0.000051    actor\n",
       "1  nm1568415  0.000181     0.001992    actor\n",
       "2  nm3421365  0.000090     0.000051    actor\n",
       "3  nm3661490  0.000090     0.000051    actor\n",
       "4  nm0219967  0.001324     0.036085    actor"
      ]
     },
     "execution_count": 33,
     "metadata": {},
     "output_type": "execute_result"
    }
   ],
   "source": [
    "df.head()"
   ]
  },
  {
   "cell_type": "code",
   "execution_count": null,
   "metadata": {},
   "outputs": [
    {
     "name": "stdout",
     "output_type": "stream",
     "text": [
      "             degree  eigenvector\n",
      "category                        \n",
      "actor      0.000186     0.000992\n",
      "non_actor  0.000125     0.000456\n",
      "unknown    0.000113     0.000108\n"
     ]
    }
   ],
   "source": [
    "#Grouping degree centrality and eigenvector centrality by categories\n",
    "summary = df.groupby(\"category\")[[\"degree\", \"eigenvector\"]].mean().sort_values(\"degree\", ascending=False)\n",
    "print(summary.head(10))"
   ]
  }
 ],
 "metadata": {
  "kernelspec": {
   "display_name": "Python 3",
   "language": "python",
   "name": "python3"
  },
  "language_info": {
   "codemirror_mode": {
    "name": "ipython",
    "version": 3
   },
   "file_extension": ".py",
   "mimetype": "text/x-python",
   "name": "python",
   "nbconvert_exporter": "python",
   "pygments_lexer": "ipython3",
   "version": "3.12.4"
  }
 },
 "nbformat": 4,
 "nbformat_minor": 2
}
