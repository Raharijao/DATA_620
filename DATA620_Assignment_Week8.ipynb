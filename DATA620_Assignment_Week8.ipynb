{
 "cells": [
  {
   "cell_type": "code",
   "execution_count": 21,
   "id": "0c77ab69",
   "metadata": {},
   "outputs": [
    {
     "name": "stderr",
     "output_type": "stream",
     "text": [
      "[nltk_data] Downloading package inaugural to\n",
      "[nltk_data]     C:\\Users\\rahar\\AppData\\Roaming\\nltk_data...\n",
      "[nltk_data]   Package inaugural is already up-to-date!\n",
      "[nltk_data] Downloading package stopwords to\n",
      "[nltk_data]     C:\\Users\\rahar\\AppData\\Roaming\\nltk_data...\n",
      "[nltk_data]   Package stopwords is already up-to-date!\n"
     ]
    }
   ],
   "source": [
    "import nltk\n",
    "nltk.download('inaugural')\n",
    "nltk.download('stopwords')\n",
    "import numpy as np\n",
    "import pandas as pd\n",
    "import matplotlib.pyplot as plt\n",
    "from collections import Counter\n",
    "from nltk.corpus import inaugural, stopwords"
   ]
  },
  {
   "cell_type": "markdown",
   "id": "cc6752a7",
   "metadata": {},
   "source": [
    "1-Loading corpus\n",
    "\n",
    "I will be using the NLTK Inaugural adress corpus, which looks at all U.S presidential inaugural speeches"
   ]
  },
  {
   "cell_type": "code",
   "execution_count": 30,
   "id": "b6e350f5",
   "metadata": {},
   "outputs": [
    {
     "name": "stdout",
     "output_type": "stream",
     "text": [
      "total tokens: 66958\n",
      "unique words: 9215\n"
     ]
    }
   ],
   "source": [
    "tokens = [w for fid in inaugural.fileids() for w in inaugural.words(fid)]\n",
    "tokens_clean = [t.lower() for t in tokens if t.isalpha()]\n",
    "\n",
    "#remove stopwords\n",
    "stop = set(stopwords.words('english'))\n",
    "tokens_nostop = [t for t in tokens_clean if t not in stop]\n",
    "\n",
    "total_tokens = len(tokens_nostop)\n",
    "unique_words = set(tokens_nostop)\n",
    "total_unique = len(unique_words)\n",
    "\n",
    "print(\"total tokens:\", total_tokens)\n",
    "print(\"unique words:\", total_unique)\n"
   ]
  },
  {
   "cell_type": "markdown",
   "id": "bb5b9b1a",
   "metadata": {},
   "source": [
    "2-How many total unique words are in the corpus?  (Please feel free to define unique words in any interesting, \n",
    "defensible way).\n",
    "\n",
    "There are 9215 unique words"
   ]
  },
  {
   "cell_type": "markdown",
   "id": "34a3159b",
   "metadata": {},
   "source": [
    "3-Taking the most common words, how many unique words represent half of the total words in the corpus?\n",
    "\n",
    "487 unique words account for half of all the words"
   ]
  },
  {
   "cell_type": "code",
   "execution_count": 34,
   "id": "52a7407b",
   "metadata": {},
   "outputs": [
    {
     "name": "stdout",
     "output_type": "stream",
     "text": [
      "487\n"
     ]
    }
   ],
   "source": [
    "freq = Counter(tokens_nostop).most_common()\n",
    "half = total_tokens / 2\n",
    "running = 0\n",
    "k_for_half = 0\n",
    "for i, (_, c) in enumerate(freq, start=1):\n",
    "    running += c\n",
    "    if running >= half:\n",
    "        k_for_half = i\n",
    "        break\n",
    "\n",
    "print( k_for_half)"
   ]
  },
  {
   "cell_type": "markdown",
   "id": "9b9d6a54",
   "metadata": {},
   "source": [
    "4-Identify the 200 highest frequency words in this corpus. "
   ]
  },
  {
   "cell_type": "code",
   "execution_count": 35,
   "id": "930eb038",
   "metadata": {},
   "outputs": [
    {
     "data": {
      "text/html": [
       "<div>\n",
       "<style scoped>\n",
       "    .dataframe tbody tr th:only-of-type {\n",
       "        vertical-align: middle;\n",
       "    }\n",
       "\n",
       "    .dataframe tbody tr th {\n",
       "        vertical-align: top;\n",
       "    }\n",
       "\n",
       "    .dataframe thead th {\n",
       "        text-align: right;\n",
       "    }\n",
       "</style>\n",
       "<table border=\"1\" class=\"dataframe\">\n",
       "  <thead>\n",
       "    <tr style=\"text-align: right;\">\n",
       "      <th></th>\n",
       "      <th>word</th>\n",
       "      <th>count</th>\n",
       "      <th>rel_freq</th>\n",
       "    </tr>\n",
       "  </thead>\n",
       "  <tbody>\n",
       "    <tr>\n",
       "      <th>0</th>\n",
       "      <td>government</td>\n",
       "      <td>611</td>\n",
       "      <td>0.009125</td>\n",
       "    </tr>\n",
       "    <tr>\n",
       "      <th>1</th>\n",
       "      <td>people</td>\n",
       "      <td>602</td>\n",
       "      <td>0.008991</td>\n",
       "    </tr>\n",
       "    <tr>\n",
       "      <th>2</th>\n",
       "      <td>us</td>\n",
       "      <td>505</td>\n",
       "      <td>0.007542</td>\n",
       "    </tr>\n",
       "    <tr>\n",
       "      <th>3</th>\n",
       "      <td>must</td>\n",
       "      <td>375</td>\n",
       "      <td>0.005601</td>\n",
       "    </tr>\n",
       "    <tr>\n",
       "      <th>4</th>\n",
       "      <td>upon</td>\n",
       "      <td>371</td>\n",
       "      <td>0.005541</td>\n",
       "    </tr>\n",
       "    <tr>\n",
       "      <th>5</th>\n",
       "      <td>great</td>\n",
       "      <td>356</td>\n",
       "      <td>0.005317</td>\n",
       "    </tr>\n",
       "    <tr>\n",
       "      <th>6</th>\n",
       "      <td>world</td>\n",
       "      <td>356</td>\n",
       "      <td>0.005317</td>\n",
       "    </tr>\n",
       "    <tr>\n",
       "      <th>7</th>\n",
       "      <td>nation</td>\n",
       "      <td>348</td>\n",
       "      <td>0.005197</td>\n",
       "    </tr>\n",
       "    <tr>\n",
       "      <th>8</th>\n",
       "      <td>states</td>\n",
       "      <td>344</td>\n",
       "      <td>0.005138</td>\n",
       "    </tr>\n",
       "    <tr>\n",
       "      <th>9</th>\n",
       "      <td>may</td>\n",
       "      <td>343</td>\n",
       "      <td>0.005123</td>\n",
       "    </tr>\n",
       "  </tbody>\n",
       "</table>\n",
       "</div>"
      ],
      "text/plain": [
       "         word  count  rel_freq\n",
       "0  government    611  0.009125\n",
       "1      people    602  0.008991\n",
       "2          us    505  0.007542\n",
       "3        must    375  0.005601\n",
       "4        upon    371  0.005541\n",
       "5       great    356  0.005317\n",
       "6       world    356  0.005317\n",
       "7      nation    348  0.005197\n",
       "8      states    344  0.005138\n",
       "9         may    343  0.005123"
      ]
     },
     "execution_count": 35,
     "metadata": {},
     "output_type": "execute_result"
    }
   ],
   "source": [
    "top_n = 200\n",
    "top200 = freq[:top_n]\n",
    "top200_df = pd.DataFrame(top200, columns=[\"word\", \"count\"])\n",
    "top200_df[\"rel_freq\"] = top200_df[\"count\"] / total_tokens\n",
    "top200_df.head(10)"
   ]
  },
  {
   "cell_type": "markdown",
   "id": "1b5d5869",
   "metadata": {},
   "source": [
    "5-Create a graph that shows the relative frequency of these 200 words. "
   ]
  },
  {
   "cell_type": "code",
   "execution_count": 37,
   "id": "ca37e921",
   "metadata": {},
   "outputs": [
    {
     "data": {
      "image/png": "[encoded data removed]",
      "text/plain": [
       "<Figure size 1000x500 with 1 Axes>"
      ]
     },
     "metadata": {},
     "output_type": "display_data"
    }
   ],
   "source": [
    "plt.figure(figsize=(10,5))\n",
    "plt.plot(range(1, top_n+1), top200_df[\"rel_freq\"].values)\n",
    "plt.xlabel(\"frequency rank\")\n",
    "plt.ylabel(\"frequency\")\n",
    "plt.tight_layout()\n",
    "plt.show()"
   ]
  },
  {
   "cell_type": "markdown",
   "id": "f5166aa6",
   "metadata": {},
   "source": [
    "6-Does the observed relative frequency of these words follow Zipf’s law?  Explain. \n",
    "\n",
    "The curve seems to roughly follow Zipf’s law. A small number of words are very frequent (shorp drop at the start), but most words appear rarely (flat tail). "
   ]
  },
  {
   "cell_type": "markdown",
   "id": "e3c0e105",
   "metadata": {},
   "source": [
    "7-In what ways do you think the frequency of the words in this corpus differ from “all words in all corpora.” \n",
    "\n",
    "Because this corpus relates to inaugural speeches, it is more formal and specific. It has a higher frequency of words related to politics like nation, freedom, people, and fewer everyday words. It’s less diverse in vocabulary and tone."
   ]
  }
 ],
 "metadata": {
  "kernelspec": {
   "display_name": "Python 3",
   "language": "python",
   "name": "python3"
  },
  "language_info": {
   "codemirror_mode": {
    "name": "ipython",
    "version": 3
   },
   "file_extension": ".py",
   "mimetype": "text/x-python",
   "name": "python",
   "nbconvert_exporter": "python",
   "pygments_lexer": "ipython3",
   "version": "3.12.4"
  }
 },
 "nbformat": 4,
 "nbformat_minor": 5
}
